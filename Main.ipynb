{
 "cells": [
  {
   "cell_type": "code",
   "execution_count": 1,
   "id": "b43ff11e-9fd6-4860-abf1-a5276cdf539e",
   "metadata": {},
   "outputs": [],
   "source": [
    "import numpy\n",
    "import json\n",
    "import requests"
   ]
  },
  {
   "cell_type": "markdown",
   "id": "03bd7b33-c001-4d59-9f1f-a64b5dc9da75",
   "metadata": {},
   "source": [
    "Client identification"
   ]
  },
  {
   "cell_type": "code",
   "execution_count": 2,
   "id": "4576c816-76b2-4dc2-bec1-77b3013c577e",
   "metadata": {},
   "outputs": [],
   "source": [
    "client_json = json.load(open(\"client_secret.txt\", \"r\"))\n",
    "client_secret = client_json[\"client_secret\"]\n",
    "client_id = client_json[\"client_id\"]"
   ]
  },
  {
   "cell_type": "markdown",
   "id": "b6352c27-c465-423b-8540-72cca95090dc",
   "metadata": {},
   "source": [
    "Athlete connection"
   ]
  },
  {
   "cell_type": "code",
   "execution_count": 3,
   "id": "7706922d-585d-435d-ac0c-e7bc8ef79f64",
   "metadata": {},
   "outputs": [
    {
     "name": "stdout",
     "output_type": "stream",
     "text": [
      "http://www.strava.com/oauth/authorize?client_id=73454&response_type=code&redirect_uri=http://localhost/exchange_token&approval_prompt=force&scope=activity:read_all\n"
     ]
    }
   ],
   "source": [
    "login_url = f\"\"\"http://www.strava.com/oauth/authorize?client_id={client_id}&response_type=code&redirect_uri=http://localhost/exchange_token&approval_prompt=force&scope=activity:read_all\"\"\"\n",
    "print(login_url)"
   ]
  },
  {
   "cell_type": "code",
   "execution_count": 4,
   "id": "39cb4ffe-f613-48a9-ada0-7d0e65eccf39",
   "metadata": {},
   "outputs": [],
   "source": [
    "# Insert code from URL here\n",
    "code = \"\""
   ]
  },
  {
   "cell_type": "markdown",
   "id": "b67ba38e-705a-4b03-9745-58a68dd5ac9f",
   "metadata": {},
   "source": [
    "Token exchange"
   ]
  },
  {
   "cell_type": "code",
   "execution_count": 5,
   "id": "5837e11f-160b-45ed-91ff-d4b9970db730",
   "metadata": {},
   "outputs": [],
   "source": [
    "r = requests.post('https://www.strava.com/api/v3/oauth/token', data={'key' : 'value',\n",
    "                                                                    'client_id' : client_id,\n",
    "                                                                    'client_secret' : client_secret,\n",
    "                                                                    'code' : code,\n",
    "                                                                    'grant_type' : 'authorization_code'})"
   ]
  },
  {
   "cell_type": "code",
   "execution_count": 6,
   "id": "dc156d87-3bba-496d-aeb0-f76a2639743b",
   "metadata": {},
   "outputs": [],
   "source": [
    "assert 200 == r.status_code"
   ]
  },
  {
   "cell_type": "code",
   "execution_count": 7,
   "id": "b7d2c17a-04d6-4ef1-be56-03b1a1108a0e",
   "metadata": {},
   "outputs": [],
   "source": [
    "response = json.loads(r.text)"
   ]
  },
  {
   "cell_type": "code",
   "execution_count": 8,
   "id": "18575362-5ca6-490c-866c-2f6cc0b0f709",
   "metadata": {},
   "outputs": [],
   "source": [
    "access_token = response[\"access_token\"]"
   ]
  },
  {
   "cell_type": "markdown",
   "id": "5bb288b1-2a6d-4a58-a5e3-94f0a2e1b8e5",
   "metadata": {},
   "source": [
    "Cache requests"
   ]
  },
  {
   "cell_type": "code",
   "execution_count": 9,
   "id": "2cf257e5-7c4e-4ff6-a164-584dfe3fbbe2",
   "metadata": {},
   "outputs": [],
   "source": [
    "import os\n",
    "import hashlib"
   ]
  },
  {
   "cell_type": "code",
   "execution_count": 10,
   "id": "3340fdc7-8bbf-4b2a-b7b9-ac312e7852f5",
   "metadata": {},
   "outputs": [],
   "source": [
    "def hash_hex(query):\n",
    "    sha = hashlib.sha256()\n",
    "    sha.update(query.encode())\n",
    "    return sha.hexdigest()[:10]"
   ]
  },
  {
   "cell_type": "code",
   "execution_count": 11,
   "id": "fafe75e8-c43f-49b7-bce6-ccda99ef2e72",
   "metadata": {},
   "outputs": [],
   "source": [
    "def request_cache(query, verbose=False, overwrite=False):\n",
    "    if verbose:print(\"Query is:\", query)\n",
    "    query_hash = hash_hex(query)\n",
    "    query_path = os.path.join(\"query_cache\", str(query_hash))\n",
    "    if verbose:\n",
    "        print(\"Cache path is:\", query_path)\n",
    "    \n",
    "    if not overwrite:\n",
    "        if os.path.exists(query_path):\n",
    "            if verbose:print(\"Exists\")\n",
    "            return json.load(open(query_path, \"r\"))\n",
    "\n",
    "    if verbose:print(\"Does not exist. Querying & saving.\")\n",
    "    r = requests.get(query, headers = {'Content-Type':'application/json',\n",
    "                                       \"Authorization\" : f\"Bearer {access_token}\"})\n",
    "\n",
    "    if r.status_code == 200:\n",
    "        result = json.loads(r.text)\n",
    "        json.dump(result, open(query_path, \"w\"))\n",
    "        return result\n",
    "    else:\n",
    "        print(f\"Error with query {query}, returned {r.text}\")\n",
    "        raise ValueError"
   ]
  },
  {
   "cell_type": "markdown",
   "id": "bd9202cc-e902-416c-9c18-5b209f96998b",
   "metadata": {},
   "source": [
    "List all activities"
   ]
  },
  {
   "cell_type": "code",
   "execution_count": 12,
   "id": "596dfc6c-ed27-4b8d-afe7-71344056897b",
   "metadata": {
    "scrolled": true,
    "tags": []
   },
   "outputs": [
    {
     "name": "stdout",
     "output_type": "stream",
     "text": [
      "1\n",
      "Query is: https://www.strava.com/api/v3/athlete/activities?page=1&per_page=30\n",
      "Cache path is: query_cache/fdc2f0b2cb\n",
      "Does not exist. Querying & saving.\n",
      "30\n",
      "2\n",
      "Query is: https://www.strava.com/api/v3/athlete/activities?page=2&per_page=30\n",
      "Cache path is: query_cache/5551a27396\n",
      "Does not exist. Querying & saving.\n",
      "30\n",
      "3\n",
      "Query is: https://www.strava.com/api/v3/athlete/activities?page=3&per_page=30\n",
      "Cache path is: query_cache/0f00c29f19\n",
      "Does not exist. Querying & saving.\n",
      "30\n",
      "4\n",
      "Query is: https://www.strava.com/api/v3/athlete/activities?page=4&per_page=30\n",
      "Cache path is: query_cache/0f502fa52e\n",
      "Does not exist. Querying & saving.\n",
      "30\n",
      "5\n",
      "Query is: https://www.strava.com/api/v3/athlete/activities?page=5&per_page=30\n",
      "Cache path is: query_cache/b3ec885450\n",
      "Does not exist. Querying & saving.\n",
      "30\n",
      "6\n",
      "Query is: https://www.strava.com/api/v3/athlete/activities?page=6&per_page=30\n",
      "Cache path is: query_cache/57843ff1cb\n",
      "Does not exist. Querying & saving.\n",
      "30\n",
      "7\n",
      "Query is: https://www.strava.com/api/v3/athlete/activities?page=7&per_page=30\n",
      "Cache path is: query_cache/f0faed2f7a\n",
      "Does not exist. Querying & saving.\n",
      "30\n",
      "8\n",
      "Query is: https://www.strava.com/api/v3/athlete/activities?page=8&per_page=30\n",
      "Cache path is: query_cache/e8daf9cca5\n",
      "Does not exist. Querying & saving.\n",
      "18\n",
      "9\n",
      "Query is: https://www.strava.com/api/v3/athlete/activities?page=9&per_page=30\n",
      "Cache path is: query_cache/a1c479e86f\n",
      "Does not exist. Querying & saving.\n",
      "0\n"
     ]
    }
   ],
   "source": [
    "all_activities = []\n",
    "limit = 20\n",
    "for i in range(1, limit + 1):\n",
    "    print(i)\n",
    "    query = f\"https://www.strava.com/api/v3/athlete/activities?page={i}&per_page=30\"\n",
    "    activities_sub = request_cache(query, True, True)\n",
    "    print(len(activities_sub))\n",
    "    if len(activities_sub) == 0:\n",
    "        break\n",
    "        \n",
    "    all_activities.extend(activities_sub)"
   ]
  },
  {
   "cell_type": "markdown",
   "id": "7a62043a-a848-474e-a39f-a2fdb2fe9d12",
   "metadata": {},
   "source": [
    "Cache in all activities details"
   ]
  },
  {
   "cell_type": "code",
   "execution_count": 13,
   "id": "fd2bb043-03cb-4e41-957e-8ba5e05d20f6",
   "metadata": {},
   "outputs": [],
   "source": [
    "from tqdm.notebook import tqdm"
   ]
  },
  {
   "cell_type": "code",
   "execution_count": 14,
   "id": "4a9ed260-0fba-4078-85ac-b13c334e5648",
   "metadata": {},
   "outputs": [
    {
     "data": {
      "application/vnd.jupyter.widget-view+json": {
       "model_id": "e3601129835e4153a5668c0e40838961",
       "version_major": 2,
       "version_minor": 0
      },
      "text/plain": [
       "  0%|          | 0/228 [00:00<?, ?it/s]"
      ]
     },
     "metadata": {},
     "output_type": "display_data"
    }
   ],
   "source": [
    "all_activities_fine = []\n",
    "for activity in tqdm(all_activities):\n",
    "    activity_id = activity[\"id\"]\n",
    "    activity_fine = request_cache(f\"https://www.strava.com/api/v3/activities/{activity_id}\")\n",
    "    all_activities_fine.append(activity_fine)"
   ]
  },
  {
   "cell_type": "code",
   "execution_count": 15,
   "id": "942fca98-0130-4302-b674-99d2d6c891ce",
   "metadata": {},
   "outputs": [],
   "source": [
    "all_activities_fine = [x for x in all_activities_fine if x[\"type\"] == \"Run\"]"
   ]
  },
  {
   "cell_type": "code",
   "execution_count": 16,
   "id": "6c9afe20-583f-48b2-aad5-472cf714ca4b",
   "metadata": {},
   "outputs": [
    {
     "data": {
      "text/plain": [
       "175"
      ]
     },
     "execution_count": 16,
     "metadata": {},
     "output_type": "execute_result"
    }
   ],
   "source": [
    "len(all_activities_fine)"
   ]
  },
  {
   "cell_type": "markdown",
   "id": "f7ad0a9e-c0a7-4a2a-8506-4b309f2ed76e",
   "metadata": {},
   "source": [
    "Explore activity"
   ]
  },
  {
   "cell_type": "code",
   "execution_count": 17,
   "id": "e9647b78-217f-4868-a769-2dab052c9285",
   "metadata": {},
   "outputs": [],
   "source": [
    "activity_fine = all_activities_fine[0]"
   ]
  },
  {
   "cell_type": "markdown",
   "id": "591e37f0-7ba5-4a7b-a6bc-04f41b1cc5af",
   "metadata": {},
   "source": [
    "Utils"
   ]
  },
  {
   "cell_type": "code",
   "execution_count": 19,
   "id": "de2e4238-64ae-444d-ab32-0257e013148c",
   "metadata": {},
   "outputs": [],
   "source": [
    "import matplotlib.pyplot as plt"
   ]
  },
  {
   "cell_type": "code",
   "execution_count": 20,
   "id": "936190a6-ab51-49e3-a85b-a1f89885d0f0",
   "metadata": {},
   "outputs": [],
   "source": [
    "def pace_activity_spkm(activity_fine):\n",
    "    speed_mps = activity_fine[\"distance\"] / activity_fine[\"moving_time\"]\n",
    "    pace_spm = 1 / speed_mps\n",
    "    pace_spkm = pace_spm * 1000\n",
    "    return pace_spkm\n",
    "    # get_min_sec_fromseconds(pace_spkm)"
   ]
  },
  {
   "cell_type": "code",
   "execution_count": 21,
   "id": "edaae1ad-8865-41b4-9f21-33d86af093e5",
   "metadata": {},
   "outputs": [],
   "source": [
    "def speed_activity_kmh(activity_fine):\n",
    "    speed_mps = activity_fine[\"distance\"] / activity_fine[\"moving_time\"]\n",
    "    speed_kmh = speed_mps * 3.6\n",
    "    return speed_kmh\n",
    "    # get_min_sec_fromseconds(pace_spkm)"
   ]
  },
  {
   "cell_type": "code",
   "execution_count": 22,
   "id": "0c2de83c-ac16-492a-8372-2e544a80c386",
   "metadata": {},
   "outputs": [],
   "source": [
    "def get_min_sec_fromseconds(seconds):\n",
    "    mins = int(seconds / 60)\n",
    "    seconds_remainder = int(seconds % 60)\n",
    "    return mins, seconds_remainder"
   ]
  },
  {
   "cell_type": "markdown",
   "id": "243f6ada-b504-4da0-a77a-d0398160c567",
   "metadata": {},
   "source": [
    "Plot perfs"
   ]
  },
  {
   "cell_type": "code",
   "execution_count": 23,
   "id": "3cb37edf-1def-480d-9405-5576ebc95700",
   "metadata": {},
   "outputs": [],
   "source": [
    "all_paces_spkm = [pace_activity_spkm(x) for x in all_activities_fine]\n",
    "all_speeds_kmh = [speed_activity_kmh(x) for x in all_activities_fine]\n",
    "all_paces_minpkm = [pace_activity_spkm(x) / 60 for x in all_activities_fine]\n",
    "all_distances_km = [x[\"distance\"] / 1e3 for x in all_activities_fine]"
   ]
  },
  {
   "cell_type": "code",
   "execution_count": 24,
   "id": "d7dd004a-ec79-4e8e-9559-7815f3f8427d",
   "metadata": {},
   "outputs": [
    {
     "data": {
      "image/png": "[encoded data removed]",
      "text/plain": [
       "<Figure size 1080x648 with 1 Axes>"
      ]
     },
     "metadata": {
      "needs_background": "light"
     },
     "output_type": "display_data"
    }
   ],
   "source": [
    "plt.figure(figsize=[15,9])\n",
    "plt.scatter(all_distances_km, all_paces_minpkm)\n",
    "plt.ylabel(\"pace (min/km)\")\n",
    "plt.xlabel(\"distance (km)\")\n",
    "plt.grid()\n",
    "plt.show()"
   ]
  },
  {
   "cell_type": "code",
   "execution_count": 25,
   "id": "0bcd2f30-12f8-4174-b761-464074970e59",
   "metadata": {},
   "outputs": [
    {
     "data": {
      "image/png": "[encoded data removed]",
      "text/plain": [
       "<Figure size 1080x648 with 1 Axes>"
      ]
     },
     "metadata": {
      "needs_background": "light"
     },
     "output_type": "display_data"
    }
   ],
   "source": [
    "plt.figure(figsize=[15,9])\n",
    "plt.scatter(all_distances_km, all_speeds_kmh)\n",
    "plt.ylabel(\"speed (km/h)\")\n",
    "plt.xlabel(\"distance (km)\")\n",
    "plt.grid()\n",
    "plt.show()"
   ]
  },
  {
   "cell_type": "markdown",
   "id": "16bb37d6-79a7-4643-a7ac-9e4565c81313",
   "metadata": {},
   "source": [
    "Breakdown activities"
   ]
  },
  {
   "cell_type": "code",
   "execution_count": 26,
   "id": "ac1d6e89-2340-42d4-a06c-feee88c614b5",
   "metadata": {},
   "outputs": [],
   "source": [
    "def extract_sub_activities(activities_fine):\n",
    "    all_sub_activities_fine = []\n",
    "    for activity_fine in activities_fine:\n",
    "        if \"id\" not in activity_fine:\n",
    "            print(activity_fine)\n",
    "        if \"splits_metric\" in activity_fine:\n",
    "            splits = activity_fine[\"splits_metric\"]\n",
    "            for splits_slice in iterate_splits(splits):\n",
    "                distance, moving_time = combine_splits(splits_slice)\n",
    "                all_sub_activities_fine.append({\"distance\" : distance,\n",
    "                                                \"moving_time\" : moving_time,\n",
    "                                                \"source_id\" : activity_fine[\"id\"]})\n",
    "        else:\n",
    "            # These runs are manually entered ones\n",
    "            # print(\"splits not found for \", activity_fine[\"id\"])\n",
    "            all_sub_activities_fine.append({\"distance\" : activity_fine[\"distance\"],\n",
    "                                            \"moving_time\" : activity_fine[\"moving_time\"],\n",
    "                                            \"source_id\" : activity_fine[\"id\"]})\n",
    "\n",
    "    return all_sub_activities_fine"
   ]
  },
  {
   "cell_type": "code",
   "execution_count": 27,
   "id": "450e7cc7-6859-4e46-94eb-05e2f2044c17",
   "metadata": {},
   "outputs": [],
   "source": [
    "def combine_splits(splits_slice):\n",
    "    distance = sum([x[\"distance\"] for x in splits_slice])\n",
    "    moving_time = sum([x[\"moving_time\"] for x in splits_slice])\n",
    "    return distance, moving_time"
   ]
  },
  {
   "cell_type": "code",
   "execution_count": 28,
   "id": "066881e0-cbd1-4f2a-9cf1-fd1d96c6e6d9",
   "metadata": {},
   "outputs": [],
   "source": [
    "def iterate_splits(splits):\n",
    "    for i in range(len(splits)):\n",
    "        for j in range(i):\n",
    "            yield splits[j:i]"
   ]
  },
  {
   "cell_type": "code",
   "execution_count": 29,
   "id": "151516d2-bbd5-47b9-a217-7654dcfc9bda",
   "metadata": {
    "scrolled": true,
    "tags": []
   },
   "outputs": [],
   "source": [
    "all_sub_activities_fine = extract_sub_activities(all_activities_fine)"
   ]
  },
  {
   "cell_type": "markdown",
   "id": "ce702232-360e-441a-b6e0-b02ec4bb5f2b",
   "metadata": {},
   "source": [
    "Plot for all sub splits"
   ]
  },
  {
   "cell_type": "code",
   "execution_count": 30,
   "id": "303972f1-f026-4d74-a5ea-9e98e1531268",
   "metadata": {},
   "outputs": [],
   "source": [
    "all_paces_spkm = [pace_activity_spkm(x) for x in all_sub_activities_fine]\n",
    "all_speeds_kmh = [speed_activity_kmh(x) for x in all_sub_activities_fine]\n",
    "all_paces_minpkm = [pace_activity_spkm(x) / 60 for x in all_sub_activities_fine]\n",
    "all_distances_km = [x[\"distance\"] / 1e3 for x in all_sub_activities_fine]"
   ]
  },
  {
   "cell_type": "code",
   "execution_count": 31,
   "id": "5fc2db28-6451-43e9-bfd2-49eef7bbe03e",
   "metadata": {},
   "outputs": [
    {
     "data": {
      "image/png": "[encoded data removed]",
      "text/plain": [
       "<Figure size 1080x648 with 1 Axes>"
      ]
     },
     "metadata": {
      "needs_background": "light"
     },
     "output_type": "display_data"
    }
   ],
   "source": [
    "plt.figure(figsize=[15,9])\n",
    "plt.scatter(all_distances_km, all_paces_minpkm)\n",
    "plt.ylabel(\"pace (min/km)\")\n",
    "plt.xlabel(\"distance (km)\")\n",
    "plt.grid()\n",
    "plt.show()"
   ]
  },
  {
   "cell_type": "markdown",
   "id": "465543c1-b495-49ec-aa2b-3a5f5fc885ff",
   "metadata": {},
   "source": [
    "Cover curve by slice of runs"
   ]
  },
  {
   "cell_type": "code",
   "execution_count": 32,
   "id": "e52e3b41-98be-460e-bfe2-39b4cfe421d6",
   "metadata": {},
   "outputs": [],
   "source": [
    "import pandas as pd\n",
    "import numpy as np"
   ]
  },
  {
   "cell_type": "code",
   "execution_count": 33,
   "id": "7ac599d4-bd6f-4be9-b98b-44b7c4b5478f",
   "metadata": {},
   "outputs": [],
   "source": [
    "def extract_cover(sub_activities_fine):\n",
    "    df = pd.DataFrame(sub_activities_fine)\n",
    "    # Distances are 1k +- 5%, need to round & group\n",
    "    distance_round = df.distance\n",
    "    distance_round = np.round(distance_round / 1e3, 0)\n",
    "    \n",
    "    df[\"distance_km_round\"] = distance_round\n",
    "    df[\"speed_mps\"] = df[\"distance\"] / df[\"moving_time\"]\n",
    "    df[\"speed_kmh\"] = df[\"speed_mps\"] * 3.6\n",
    "    df[\"speed_kmh\"] = np.minimum(df[\"speed_kmh\"], 20)\n",
    "    return df.groupby(\"distance_km_round\").speed_kmh.max()"
   ]
  },
  {
   "cell_type": "code",
   "execution_count": 34,
   "id": "a42edd6d-d879-4bdb-9e68-2f0ee55e34aa",
   "metadata": {},
   "outputs": [],
   "source": [
    "class ActivitiesSplitter():\n",
    "    def __init__(self):\n",
    "        pass\n",
    "    \n",
    "    def split(self, activities):\n",
    "        raise NotImplementedError\n",
    "    \n",
    "class CountActivitiesSplitter():\n",
    "    def __init__(self, bucket_size):\n",
    "        self.bucket_size = bucket_size\n",
    "        \n",
    "    def split(self, activities):\n",
    "        num_splits = int(np.ceil(len(activities) / self.bucket_size))\n",
    "        splits = []\n",
    "        for k in range(num_splits):\n",
    "            sub_activities = activities[k*self.bucket_size:(k+1)*self.bucket_size]\n",
    "            splits.append(sub_activities)\n",
    "            \n",
    "        # If last batch has less than 5 activities, merge with previous\n",
    "        if len(splits[-1]) < 5:\n",
    "            splits = splits[:-2] + [splits[-1] + splits[-2]]\n",
    "            \n",
    "        for sub_activity_slice in splits:\n",
    "            yield sub_activity_slice\n",
    "\n",
    "cas = CountActivitiesSplitter(bucket_size=30)\n",
    "L = 0\n",
    "for sub_activities in cas.split(all_activities_fine):\n",
    "    L += len(sub_activities)\n",
    "assert L == len(all_activities_fine)\n",
    "\n"
   ]
  },
  {
   "cell_type": "code",
   "execution_count": 35,
   "id": "a164aeb6-5f28-40df-9562-c2c320a68c9b",
   "metadata": {},
   "outputs": [
    {
     "data": {
      "image/png": "[encoded data removed]",
      "text/plain": [
       "<Figure size 1080x648 with 1 Axes>"
      ]
     },
     "metadata": {
      "needs_background": "light"
     },
     "output_type": "display_data"
    }
   ],
   "source": [
    "plt.figure(figsize=[15, 9])\n",
    "for sub_activities in cas.split(all_activities_fine):\n",
    "    all_sub_activities_fine = extract_sub_activities(sub_activities)\n",
    "    cover = extract_cover(all_sub_activities_fine)\n",
    "    \n",
    "    label = sub_activities[0][\"start_date_local\"][:10] + \" -> \" + sub_activities[-1][\"start_date_local\"][:10]\n",
    "    plt.plot(cover, label = label)\n",
    "\n",
    "plt.legend()\n",
    "plt.ylabel(\"speed (km/h)\")\n",
    "plt.xlabel(\"distance (km)\")\n",
    "plt.grid()\n",
    "plt.show()"
   ]
  },
  {
   "cell_type": "code",
   "execution_count": 38,
   "id": "2f17451f-4427-41dd-b19e-308b74c656f3",
   "metadata": {},
   "outputs": [
    {
     "data": {
      "text/html": [
       "<div>\n",
       "<style scoped>\n",
       "    .dataframe tbody tr th:only-of-type {\n",
       "        vertical-align: middle;\n",
       "    }\n",
       "\n",
       "    .dataframe tbody tr th {\n",
       "        vertical-align: top;\n",
       "    }\n",
       "\n",
       "    .dataframe thead th {\n",
       "        text-align: right;\n",
       "    }\n",
       "</style>\n",
       "<table border=\"1\" class=\"dataframe\">\n",
       "  <thead>\n",
       "    <tr style=\"text-align: right;\">\n",
       "      <th></th>\n",
       "      <th>top_speed_at_2</th>\n",
       "      <th>top_speed_at_5</th>\n",
       "      <th>top_speed_at_10</th>\n",
       "      <th>top_speed_at_15</th>\n",
       "      <th>top_speed_at_20</th>\n",
       "    </tr>\n",
       "    <tr>\n",
       "      <th>label</th>\n",
       "      <th></th>\n",
       "      <th></th>\n",
       "      <th></th>\n",
       "      <th></th>\n",
       "      <th></th>\n",
       "    </tr>\n",
       "  </thead>\n",
       "  <tbody>\n",
       "    <tr>\n",
       "      <th>2023-10-08 -&gt; 2023-01-28</th>\n",
       "      <td>15.0</td>\n",
       "      <td>14.3</td>\n",
       "      <td>11.3</td>\n",
       "      <td>NaN</td>\n",
       "      <td>NaN</td>\n",
       "    </tr>\n",
       "    <tr>\n",
       "      <th>2022-11-06 -&gt; 2022-09-29</th>\n",
       "      <td>14.7</td>\n",
       "      <td>13.7</td>\n",
       "      <td>13.3</td>\n",
       "      <td>13.0</td>\n",
       "      <td>12.6</td>\n",
       "    </tr>\n",
       "    <tr>\n",
       "      <th>2022-09-28 -&gt; 2022-09-06</th>\n",
       "      <td>20.0</td>\n",
       "      <td>13.6</td>\n",
       "      <td>12.4</td>\n",
       "      <td>12.1</td>\n",
       "      <td>11.5</td>\n",
       "    </tr>\n",
       "    <tr>\n",
       "      <th>2022-09-01 -&gt; 2022-05-30</th>\n",
       "      <td>13.3</td>\n",
       "      <td>13.0</td>\n",
       "      <td>12.1</td>\n",
       "      <td>11.2</td>\n",
       "      <td>NaN</td>\n",
       "    </tr>\n",
       "    <tr>\n",
       "      <th>2022-05-28 -&gt; 2021-12-04</th>\n",
       "      <td>13.6</td>\n",
       "      <td>13.5</td>\n",
       "      <td>12.9</td>\n",
       "      <td>11.2</td>\n",
       "      <td>10.8</td>\n",
       "    </tr>\n",
       "    <tr>\n",
       "      <th>2021-11-17 -&gt; 2021-06-12</th>\n",
       "      <td>14.0</td>\n",
       "      <td>13.5</td>\n",
       "      <td>12.8</td>\n",
       "      <td>11.9</td>\n",
       "      <td>NaN</td>\n",
       "    </tr>\n",
       "    <tr>\n",
       "      <th>2021-06-09 -&gt; 2020-12-21</th>\n",
       "      <td>14.3</td>\n",
       "      <td>13.4</td>\n",
       "      <td>12.9</td>\n",
       "      <td>NaN</td>\n",
       "      <td>NaN</td>\n",
       "    </tr>\n",
       "    <tr>\n",
       "      <th>2020-12-16 -&gt; 2020-08-13</th>\n",
       "      <td>14.8</td>\n",
       "      <td>14.3</td>\n",
       "      <td>13.6</td>\n",
       "      <td>NaN</td>\n",
       "      <td>NaN</td>\n",
       "    </tr>\n",
       "    <tr>\n",
       "      <th>2020-08-10 -&gt; 2020-04-05</th>\n",
       "      <td>14.3</td>\n",
       "      <td>13.5</td>\n",
       "      <td>12.4</td>\n",
       "      <td>NaN</td>\n",
       "      <td>NaN</td>\n",
       "    </tr>\n",
       "    <tr>\n",
       "      <th>2020-03-26 -&gt; 2019-08-25</th>\n",
       "      <td>14.1</td>\n",
       "      <td>13.2</td>\n",
       "      <td>11.1</td>\n",
       "      <td>NaN</td>\n",
       "      <td>NaN</td>\n",
       "    </tr>\n",
       "    <tr>\n",
       "      <th>2019-08-24 -&gt; 2018-09-11</th>\n",
       "      <td>13.8</td>\n",
       "      <td>13.2</td>\n",
       "      <td>NaN</td>\n",
       "      <td>NaN</td>\n",
       "      <td>NaN</td>\n",
       "    </tr>\n",
       "    <tr>\n",
       "      <th>2018-07-19 -&gt; 2018-02-28</th>\n",
       "      <td>14.1</td>\n",
       "      <td>13.2</td>\n",
       "      <td>NaN</td>\n",
       "      <td>NaN</td>\n",
       "      <td>NaN</td>\n",
       "    </tr>\n",
       "  </tbody>\n",
       "</table>\n",
       "</div>"
      ],
      "text/plain": [
       "                          top_speed_at_2  top_speed_at_5  top_speed_at_10  \\\n",
       "label                                                                       \n",
       "2023-10-08 -> 2023-01-28            15.0            14.3             11.3   \n",
       "2022-11-06 -> 2022-09-29            14.7            13.7             13.3   \n",
       "2022-09-28 -> 2022-09-06            20.0            13.6             12.4   \n",
       "2022-09-01 -> 2022-05-30            13.3            13.0             12.1   \n",
       "2022-05-28 -> 2021-12-04            13.6            13.5             12.9   \n",
       "2021-11-17 -> 2021-06-12            14.0            13.5             12.8   \n",
       "2021-06-09 -> 2020-12-21            14.3            13.4             12.9   \n",
       "2020-12-16 -> 2020-08-13            14.8            14.3             13.6   \n",
       "2020-08-10 -> 2020-04-05            14.3            13.5             12.4   \n",
       "2020-03-26 -> 2019-08-25            14.1            13.2             11.1   \n",
       "2019-08-24 -> 2018-09-11            13.8            13.2              NaN   \n",
       "2018-07-19 -> 2018-02-28            14.1            13.2              NaN   \n",
       "\n",
       "                          top_speed_at_15  top_speed_at_20  \n",
       "label                                                       \n",
       "2023-10-08 -> 2023-01-28              NaN              NaN  \n",
       "2022-11-06 -> 2022-09-29             13.0             12.6  \n",
       "2022-09-28 -> 2022-09-06             12.1             11.5  \n",
       "2022-09-01 -> 2022-05-30             11.2              NaN  \n",
       "2022-05-28 -> 2021-12-04             11.2             10.8  \n",
       "2021-11-17 -> 2021-06-12             11.9              NaN  \n",
       "2021-06-09 -> 2020-12-21              NaN              NaN  \n",
       "2020-12-16 -> 2020-08-13              NaN              NaN  \n",
       "2020-08-10 -> 2020-04-05              NaN              NaN  \n",
       "2020-03-26 -> 2019-08-25              NaN              NaN  \n",
       "2019-08-24 -> 2018-09-11              NaN              NaN  \n",
       "2018-07-19 -> 2018-02-28              NaN              NaN  "
      ]
     },
     "execution_count": 38,
     "metadata": {},
     "output_type": "execute_result"
    },
    {
     "data": {
      "text/plain": [
       "<Figure size 1080x648 with 0 Axes>"
      ]
     },
     "metadata": {},
     "output_type": "display_data"
    }
   ],
   "source": [
    "cas = CountActivitiesSplitter(bucket_size=15)\n",
    "L = 0\n",
    "for sub_activities in cas.split(all_activities_fine):\n",
    "    L += len(sub_activities)\n",
    "assert L == len(all_activities_fine)\n",
    "\n",
    "target_distances = [2, 5, 10, 15, 20]\n",
    "recs = []\n",
    "for sub_activities in cas.split(all_activities_fine):\n",
    "    rec = {}\n",
    "    label = sub_activities[0][\"start_date_local\"][:10] + \" -> \" + sub_activities[-1][\"start_date_local\"][:10]\n",
    "    rec[\"label\"] = label\n",
    "    for target_distance in target_distances:\n",
    "        all_sub_activities_fine = extract_sub_activities(sub_activities)\n",
    "        cover = extract_cover(all_sub_activities_fine)\n",
    "        try:\n",
    "            speed = cover[target_distance]\n",
    "            rec[f\"top_speed_at_{target_distance}\"] = speed\n",
    "        except KeyError as e:\n",
    "            pass\n",
    "        \n",
    "    recs.append(rec)\n",
    "        \n",
    "plt.figure(figsize=[15, 9])\n",
    "pd.DataFrame(recs).set_index(\"label\").round(1)"
   ]
  },
  {
   "cell_type": "code",
   "execution_count": 39,
   "id": "31675f8a-72b7-4be1-8a41-aa9097e0f67d",
   "metadata": {},
   "outputs": [
    {
     "data": {
      "image/png": "[encoded data removed]",
      "text/plain": [
       "<Figure size 432x288 with 1 Axes>"
      ]
     },
     "metadata": {
      "needs_background": "light"
     },
     "output_type": "display_data"
    }
   ],
   "source": [
    "table = pd.DataFrame(recs).set_index(\"label\").sort_index()\n",
    "table.plot()\n",
    "plt.xticks(range(len(table)), table.index, rotation=90)\n",
    "plt.grid()"
   ]
  },
  {
   "cell_type": "code",
   "execution_count": null,
   "id": "2a3d3531-ccff-4fc8-8859-d9fc58b2b92a",
   "metadata": {},
   "outputs": [],
   "source": []
  },
  {
   "cell_type": "markdown",
   "id": "0e8f9ae8-6fc2-4547-9f99-c52698329893",
   "metadata": {
    "tags": []
   },
   "source": [
    "### Modeling"
   ]
  },
  {
   "cell_type": "markdown",
   "id": "8445c505-3952-423e-86ce-bb92aa423a81",
   "metadata": {},
   "source": [
    "There is a raw power function $F(t)$ which is stable"
   ]
  },
  {
   "cell_type": "markdown",
   "id": "8ba025d4-bcfe-48c4-9ef0-f0c95d7c7943",
   "metadata": {},
   "source": [
    "It translated into a realized performance with \n",
    "\n",
    "$speed_i = curve(F(t), distance_i) - r_i$\n",
    "\n",
    "$r_i$ being the drag on a given run vs. best level."
   ]
  },
  {
   "cell_type": "markdown",
   "id": "5ba665db-21af-473f-9dec-b1066466bc10",
   "metadata": {},
   "source": [
    "We have to jointly estimate $curve$ and $F$. \n",
    "\n",
    "We can add extra assumptions\n",
    "- $speed$ is a decreasing function\n",
    "- $F(t)$ is a continuous function, we can penalize its variation\n",
    "- $r_i$ is $N(0, \\sigma)$"
   ]
  },
  {
   "cell_type": "code",
   "execution_count": 104,
   "id": "4c4aeb9e-31a0-4662-9383-4ac5b78228f1",
   "metadata": {},
   "outputs": [],
   "source": [
    "sigma = 0.2"
   ]
  },
  {
   "cell_type": "code",
   "execution_count": 105,
   "id": "f31e4b90-827d-49ea-93f0-f1ddb65a72c1",
   "metadata": {},
   "outputs": [],
   "source": [
    "def C0(f, x):\n",
    "    return f * (16 - 5 * x / 25)"
   ]
  },
  {
   "cell_type": "code",
   "execution_count": 106,
   "id": "0e913bc7-94b1-45ea-9def-9dac3ffb5a8c",
   "metadata": {},
   "outputs": [
    {
     "data": {
      "text/plain": [
       "<matplotlib.legend.Legend at 0x7facdcd3d9a0>"
      ]
     },
     "execution_count": 106,
     "metadata": {},
     "output_type": "execute_result"
    },
    {
     "data": {
      "image/png": "[encoded data removed]",
      "text/plain": [
       "<Figure size 432x288 with 1 Axes>"
      ]
     },
     "metadata": {
      "needs_background": "light"
     },
     "output_type": "display_data"
    }
   ],
   "source": [
    "xs = range(20)\n",
    "plt.plot(xs, [C0(1, x) for x in xs], label=\"1\")\n",
    "plt.plot(xs, [C0(.8, x) for x in xs], label=\"0.8\")\n",
    "plt.legend()"
   ]
  },
  {
   "cell_type": "markdown",
   "id": "902dac3b-ba41-4fcc-8ed1-13317acc711a",
   "metadata": {},
   "source": [
    "Then to find F based on the data and the current curve function, "
   ]
  },
  {
   "cell_type": "markdown",
   "id": "0373a8ca-9f04-4a8d-8043-4e76f67b7f3a",
   "metadata": {},
   "source": [
    "##### Other simpler approach\n",
    "This is a regression per data point, with a strong regularization on consecutive thetas"
   ]
  },
  {
   "cell_type": "markdown",
   "id": "6349123a-7f77-4ec7-ade8-5c9659995b57",
   "metadata": {},
   "source": [
    "$Y = X^T I \\beta$ ?\n",
    "\n",
    "$L = (Y - X\\beta)^2 + \\sum_i (\\beta_i - \\beta_{i-1})^2 \\alpha$"
   ]
  },
  {
   "cell_type": "markdown",
   "id": "6fdb8059-8abe-431b-80b4-7365bd10347e",
   "metadata": {},
   "source": [
    "With $Y$ being the speed, $X$ being the distance, $\\beta$ being the current shape"
   ]
  },
  {
   "cell_type": "code",
   "execution_count": 107,
   "id": "da4ee699-3078-4551-85c8-4188fae195da",
   "metadata": {},
   "outputs": [
    {
     "data": {
      "text/plain": [
       "array([[1],\n",
       "       [2],\n",
       "       [3],\n",
       "       [7],\n",
       "       [6]])"
      ]
     },
     "execution_count": 107,
     "metadata": {},
     "output_type": "execute_result"
    }
   ],
   "source": [
    "n = 5\n",
    "betas = np.array([[1],[2],[3],[7],[6]])\n",
    "betas"
   ]
  },
  {
   "cell_type": "code",
   "execution_count": 108,
   "id": "76e751fe-e362-4977-b146-70ee61c94d84",
   "metadata": {},
   "outputs": [],
   "source": [
    "import numpy as np\n",
    "D = np.diag([-1] * (n-1), 1)\n",
    "D2 = D[:-1, :]\n",
    "U = np.diag([1]*n)[:-1, :]\n",
    "TR = D2+U"
   ]
  },
  {
   "cell_type": "code",
   "execution_count": 109,
   "id": "171f069b-c1e1-427b-9f86-73c0188d181c",
   "metadata": {},
   "outputs": [],
   "source": [
    "shifts = (D2 + U) @ betas"
   ]
  },
  {
   "cell_type": "code",
   "execution_count": 110,
   "id": "6e8d1dfe-39d8-47c2-94eb-3963b73d93d1",
   "metadata": {},
   "outputs": [
    {
     "data": {
      "text/plain": [
       "array([[-1],\n",
       "       [-1],\n",
       "       [-4],\n",
       "       [ 1]])"
      ]
     },
     "execution_count": 110,
     "metadata": {},
     "output_type": "execute_result"
    }
   ],
   "source": [
    "shifts"
   ]
  },
  {
   "cell_type": "markdown",
   "id": "13bdc3fe-ad8a-45f6-bc51-3da19a38d28b",
   "metadata": {},
   "source": [
    "$$\n",
    "L = \\sum(Y_i - \\beta_iX_i)^2 + \\sum\\alpha(\\beta_i - \\beta_{i-1})^2\n",
    "$$"
   ]
  },
  {
   "cell_type": "markdown",
   "id": "7a4e2f7b-f639-4fe7-987f-f46ecbe76e55",
   "metadata": {},
   "source": [
    "$$\n",
    "L = -\\sum 2Y_i\\beta_iX_i + (\\beta_iX_i)^2 + \\sum\\alpha(\\beta_i - \\beta_{i-1})^2\n",
    "$$"
   ]
  },
  {
   "cell_type": "markdown",
   "id": "f255c791-162c-4737-a9ff-a3e28d59d0f1",
   "metadata": {},
   "source": [
    "$$\n",
    "L = -2(Y*X)^T\\beta + \\beta^TDiag(X_i^2)\\beta + \\alpha\\beta^TTR^TTR\\beta\n",
    "$$"
   ]
  },
  {
   "cell_type": "markdown",
   "id": "4c896c1f-dbbe-43b6-b4f7-9ec80cc23e49",
   "metadata": {},
   "source": [
    "$$ \\nabla L = -2(Y*X) + 2 Diag(X_i^2)\\beta + 2 \\alpha TR^TTR\\beta\n",
    "$$"
   ]
  },
  {
   "cell_type": "markdown",
   "id": "ce980dc5-dd60-4d39-a7ab-d81a0236b894",
   "metadata": {},
   "source": [
    "$$ \\beta = (Diag(X_i^2) + \\alpha TR^TTR)^{-1}(Y*X)\n",
    "$$"
   ]
  },
  {
   "cell_type": "code",
   "execution_count": 111,
   "id": "5afaa2a5-9b04-49ba-bb6f-ccdc89d5014a",
   "metadata": {
    "scrolled": true,
    "tags": []
   },
   "outputs": [],
   "source": [
    "all_sub_activities_fine = extract_sub_activities(all_activities_fine)"
   ]
  },
  {
   "cell_type": "code",
   "execution_count": 112,
   "id": "8b9c1192-7b4f-4974-bdb8-0e03ce0a640a",
   "metadata": {},
   "outputs": [],
   "source": [
    "all_speeds_kmh = [speed_activity_kmh(x) for x in all_sub_activities_fine]\n",
    "all_distances_km = [x[\"distance\"] / 1e3 for x in all_sub_activities_fine]"
   ]
  },
  {
   "cell_type": "code",
   "execution_count": 113,
   "id": "3a3bd8ae-1546-42cd-851d-08f693fdaee8",
   "metadata": {},
   "outputs": [],
   "source": [
    "N = 100\n",
    "X = np.reshape(all_distances_km[:N], [-1, 1])\n",
    "Y = np.reshape(all_speeds_kmh[:N], [-1, 1])\n",
    "n = len(all_speeds_kmh[:N])"
   ]
  },
  {
   "cell_type": "code",
   "execution_count": 114,
   "id": "2ea4f738-f3e7-418f-a3df-2cbe1171cc1c",
   "metadata": {},
   "outputs": [],
   "source": [
    "D = np.diag([-1] * (n-1), 1)\n",
    "D2 = D[:-1, :]\n",
    "U = np.diag([1]*n)[:-1, :]\n",
    "TR = D2+U"
   ]
  },
  {
   "cell_type": "code",
   "execution_count": 115,
   "id": "326438e9-8b3f-4e06-8197-6052b6f6a4b0",
   "metadata": {},
   "outputs": [],
   "source": [
    "alpha = 20"
   ]
  },
  {
   "cell_type": "code",
   "execution_count": 116,
   "id": "0b6e1df6-d58e-4e5a-a218-8c6ecc59faef",
   "metadata": {},
   "outputs": [],
   "source": [
    "M = np.diag((X*X)[:, 0]) + alpha * TR.T@TR"
   ]
  },
  {
   "cell_type": "code",
   "execution_count": 117,
   "id": "c3bcce91-8dbd-4bf1-8897-992a563a1939",
   "metadata": {},
   "outputs": [
    {
     "name": "stderr",
     "output_type": "stream",
     "text": [
      "<ipython-input-117-e6beba89f05d>:1: FutureWarning: `rcond` parameter will change to the default of machine precision times ``max(M, N)`` where M and N are the input matrix dimensions.\n",
      "To use the future default and silence this warning we advise to pass `rcond=None`, to keep using the old, explicitly pass `rcond=-1`.\n",
      "  betas, _, _, _ = np.linalg.lstsq(M, Y*X)\n"
     ]
    }
   ],
   "source": [
    "betas, _, _, _ = np.linalg.lstsq(M, Y*X)"
   ]
  },
  {
   "cell_type": "code",
   "execution_count": 118,
   "id": "18b6d90b-1a5e-4bbb-bf11-bdb6bd5276d0",
   "metadata": {},
   "outputs": [
    {
     "ename": "NameError",
     "evalue": "name 'betas0' is not defined",
     "output_type": "error",
     "traceback": [
      "\u001b[0;31m---------------------------------------------------------------------------\u001b[0m",
      "\u001b[0;31mNameError\u001b[0m                                 Traceback (most recent call last)",
      "Cell \u001b[0;32mIn[118], line 1\u001b[0m\n\u001b[0;32m----> 1\u001b[0m \u001b[38;5;28;01massert\u001b[39;00m betas \u001b[38;5;241m==\u001b[39m \u001b[43mbetas0\u001b[49m\n",
      "\u001b[0;31mNameError\u001b[0m: name 'betas0' is not defined"
     ]
    }
   ],
   "source": [
    "assert betas == betas0"
   ]
  },
  {
   "cell_type": "code",
   "execution_count": null,
   "id": "7b400648-712d-4a41-aeb4-2e8d448956c2",
   "metadata": {},
   "outputs": [],
   "source": []
  },
  {
   "cell_type": "code",
   "execution_count": 119,
   "id": "52b59933-1128-4525-8f9b-b295ee61675e",
   "metadata": {},
   "outputs": [],
   "source": [
    "betas0 = betas"
   ]
  },
  {
   "cell_type": "code",
   "execution_count": 120,
   "id": "afccdc0a-38ce-4a5c-ab23-83a06ec391b7",
   "metadata": {},
   "outputs": [
    {
     "data": {
      "image/png": "[encoded data removed]",
      "text/plain": [
       "<Figure size 432x288 with 1 Axes>"
      ]
     },
     "metadata": {
      "needs_background": "light"
     },
     "output_type": "display_data"
    }
   ],
   "source": [
    "plt.plot(betas)\n",
    "plt.grid()"
   ]
  },
  {
   "cell_type": "code",
   "execution_count": 121,
   "id": "e27d98cf-5142-4ef3-a067-39273b6ab7fd",
   "metadata": {},
   "outputs": [],
   "source": [
    "all_betas = betas[:, 0]"
   ]
  },
  {
   "cell_type": "code",
   "execution_count": null,
   "id": "835ceba8-fcec-4c34-900f-934ae967ca0c",
   "metadata": {},
   "outputs": [],
   "source": []
  }
 ],
 "metadata": {
  "kernelspec": {
   "display_name": "Python 3",
   "language": "python",
   "name": "python3"
  },
  "language_info": {
   "codemirror_mode": {
    "name": "ipython",
    "version": 3
   },
   "file_extension": ".py",
   "mimetype": "text/x-python",
   "name": "python",
   "nbconvert_exporter": "python",
   "pygments_lexer": "ipython3",
   "version": "3.9.12"
  }
 },
 "nbformat": 4,
 "nbformat_minor": 5
}
